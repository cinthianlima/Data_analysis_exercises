{
 "cells": [
  {
   "cell_type": "markdown",
   "id": "dd32bd5e",
   "metadata": {},
   "source": [
    "### Packages"
   ]
  },
  {
   "cell_type": "code",
   "execution_count": 1,
   "id": "680fca9a",
   "metadata": {},
   "outputs": [],
   "source": [
    "# NumCosmo:\n",
    "try:\n",
    "  import gi\n",
    "  gi.require_version('NumCosmo', '1.0')\n",
    "  gi.require_version('NumCosmoMath', '1.0')\n",
    "except:\n",
    "  pass\n",
    "\n",
    "from gi.repository import GObject\n",
    "from gi.repository import NumCosmo as Nc\n",
    "from gi.repository import NumCosmoMath as Ncm\n",
    "\n",
    "import matplotlib.pyplot as plt\n",
    "import scipy\n",
    "import numpy as np\n",
    "from sympy import *\n",
    "import scipy.stats as scs\n",
    "\n",
    "# Necessary functions:\n",
    "\n",
    "from numpy import sqrt, log10, sinh, exp\n",
    "from numpy import log as ln\n",
    "\n",
    "#Calculus:\n",
    "from scipy.integrate import quad #Integrate\n",
    "from sympy import diff, Symbol, symbols #Derivative\n",
    "from scipy.optimize import minimize\n",
    "\n",
    "c = 3*(10**5)\n",
    "#c =1"
   ]
  },
  {
   "cell_type": "markdown",
   "id": "ea6b5ecb",
   "metadata": {},
   "source": [
    "### NumCosmo Settings"
   ]
  },
  {
   "cell_type": "code",
   "execution_count": 2,
   "id": "464d68a0",
   "metadata": {},
   "outputs": [],
   "source": [
    "Ncm.cfg_init ()\n",
    "cosmo = Nc.HICosmoDEXcdm() #Cosmology object"
   ]
  },
  {
   "cell_type": "markdown",
   "id": "16fe74fd",
   "metadata": {},
   "source": [
    "### Data"
   ]
  },
  {
   "cell_type": "code",
   "execution_count": 3,
   "id": "2ea629e5",
   "metadata": {},
   "outputs": [],
   "source": [
    "ser = Ncm.Serialize.new(0)\n",
    "data = ser.from_file(\"/home/cinthia/NumCosmo/data/nc_data_snia_diag_legacy.obj\")\n",
    "lenz = data.y.len()\n",
    "\n",
    "muobs = []\n",
    "sigma = []\n",
    "zobs = []\n",
    "for i in range(lenz):\n",
    "    mi = data.y.get(i)\n",
    "    si = data.sigma.get(i)\n",
    "    zi = data.x.get(i)\n",
    "    \n",
    "    muobs.append(mi)\n",
    "    sigma.append(si)\n",
    "    zobs.append(zi)\n",
    "\n",
    "muobs = np.array(muobs)\n",
    "zobs = np.array(zobs)\n",
    "sigmaobs = np.array(sigma)"
   ]
  },
  {
   "cell_type": "markdown",
   "id": "ad13d0cf",
   "metadata": {},
   "source": [
    "### A) Likelihood (-2ln L) ($\\Omega_{k0} = \\Omega_{r0} = 0$ )"
   ]
  },
  {
   "cell_type": "code",
   "execution_count": 4,
   "id": "a84ae715",
   "metadata": {},
   "outputs": [],
   "source": [
    "def Dl(z, theta):\n",
    "#Theta\n",
    "    H0, Omega_m0, Omega_l0  = theta[0], theta[1], theta[2]\n",
    "\n",
    "#Hubble function\n",
    "#    E2z = Omega_l0 + Omega_k0*((1 + z) ** 2) + Omega_m0*((1 + z) ** 3) + Omega_r0*((1 + z) ** 4) \n",
    "#    Ez = E2z ** 0.5\n",
    "    \n",
    "\n",
    "#Comoving distance\n",
    "    def integ(b):\n",
    "\n",
    "        int_arg = lambda z: 1/((Omega_l0 + (Omega_m0 * ((1 + z) ** 3))) ** 0.5)\n",
    "        result = quad(int_arg, 0, b)\n",
    "        return result[0]\n",
    "\n",
    "    dc_list = []\n",
    "    for i in range(lenz):\n",
    "        d = integ (z[i])     #(* c/H0)   \n",
    "        dc_list.append(d)\n",
    "\n",
    "    dc = np.array(dc_list)      \n",
    "    Dc =  dc     #( * H0/c)\n",
    "\n",
    "\n",
    "#Temporal comoving distance\n",
    "#     if Omega_k0 == 0:\n",
    "#         Dt = Dc\n",
    "#     else:\n",
    "#         Dt = sinh((sqrt(Omega_k0)) * Dc) / sqrt(Omega_k0)\n",
    "    Dt = Dc\n",
    "\n",
    "    \n",
    "#Luminosity distance\n",
    "    D_l = (1 + z) * Dt\n",
    "\n",
    "    return D_l\n",
    "\n",
    "def mu(z, theta): #This function calculates the modular distance\n",
    "#Modular distance\n",
    "    H0, Omega_m0, Omega_l0  = theta[0], theta[1], theta[2]\n",
    "    DL = Dl(z, theta)\n",
    "    mu = ( 5 * log10(DL) ) + 25 + ( 5 * log10(c / H0))\n",
    "    \n",
    "    return mu \n",
    "\n",
    "def f_2lnL(theta): #This function calculates -2lnL (L is the Likelihood).\n",
    "    arg = []\n",
    "    mu_z = mu(zobs,theta)\n",
    "    for i in range(lenz):\n",
    "        argi = ( ( mu_z[i] - muobs[i] ) ** 2 ) / ( sigmaobs[i] ** 2 )\n",
    "        arg.append(argi)\n",
    "        \n",
    "    return sum(arg)  \n"
   ]
  },
  {
   "cell_type": "markdown",
   "id": "b9eb2486",
   "metadata": {},
   "source": [
    "### Best fit"
   ]
  },
  {
   "cell_type": "code",
   "execution_count": 27,
   "id": "594838ea",
   "metadata": {},
   "outputs": [
    {
     "name": "stdout",
     "output_type": "stream",
     "text": [
      " [H0 Omega_m0 Omega_l0] \n",
      " [71.11068429  0.25476161  0.71600742]\n"
     ]
    }
   ],
   "source": [
    "def fit():\n",
    "    x0 = [70.0, 0.25, 0.70]\n",
    "    x0_np = np.array(x0)\n",
    "    bnds = ((0, None), (0, 1.0), (0, 1.0))\n",
    "    \n",
    "    f = minimize(f_2lnL, x0_np, bounds = bnds, method='Nelder-Mead', tol=1e-6)\n",
    "    \n",
    "    return f\n",
    "\n",
    "fit = fit()\n",
    "\n",
    "print(f' [H0 Omega_m0 Omega_l0] \\n', fit.x)"
   ]
  },
  {
   "cell_type": "markdown",
   "id": "3f7fd4b7",
   "metadata": {},
   "source": [
    "### Fisher matrix"
   ]
  },
  {
   "cell_type": "code",
   "execution_count": 6,
   "id": "a56f5dc0",
   "metadata": {},
   "outputs": [
    {
     "name": "stdout",
     "output_type": "stream",
     "text": [
      "The Fisher Information Matrix, Fij = < del(-lnL)/deltheta_i deltheta_j> (theta = [H0, OmegaLambda, Omegam]), is: \n",
      " [[4.26705164e+00 1.55951899e+02 3.06150733e+02]\n",
      " [1.55951899e+02 5.74763983e+03 1.17538014e+04]\n",
      " [3.06150733e+02 1.17538014e+04 2.87466378e+04]]\n"
     ]
    }
   ],
   "source": [
    "#Parameters and data\n",
    "theta = fit.x\n",
    "H0 = theta[0]\n",
    "z = zobs\n",
    "\n",
    "# factor: del(dc)/delOmega_lambda/m\n",
    "def dOm(z, Omega):\n",
    "    dc_list = []\n",
    "    for i in range(lenz):\n",
    "        \n",
    "        H0, Omega_m0, Omega_l0  = theta[0], theta[1], theta[2]\n",
    "        \n",
    "        if Omega == 1:        #Omega_Lambda case\n",
    "            int_arg = lambda z: -(0.5) * ((Omega_l0 + (Omega_m0 * ((1 + z) ** 3)))) ** (3/2)\n",
    "            d = quad(int_arg, 0, z[i])\n",
    "        \n",
    "        else:                #Omega_m case\n",
    "            \n",
    "            int_arg = lambda z: -((1 + z) ** 3) * (0.5) * ((Omega_l0 + (Omega_m0 * ((1 + z) ** 3)))) ** (3/2)\n",
    "            d = quad(int_arg, 0, z[i])\n",
    "        \n",
    "               \n",
    "        dc_list.append(d[0])\n",
    "\n",
    "    return np.array(dc_list)\n",
    "\n",
    "\n",
    "#delmu/delH0\n",
    "delmuH0 =  []\n",
    "\n",
    "#delmu/delOmegalambda\n",
    "delmuOL = []\n",
    "\n",
    "#delmu/delOmegam\n",
    "delmuOM = []\n",
    "\n",
    "for k in range(lenz):\n",
    "    delmuH0i =(- 5) / (H0 * ln(10))\n",
    "    delmuOLi = (5 / (Dl(z, theta)[k] * ln(10)) * dOm(zobs, 1)[k])\n",
    "    delmuOMi = (5 / (Dl(z, theta)[k] * ln(10)) * dOm(zobs, 2)[k])\n",
    "    delmuOL.append(delmuOLi)\n",
    "    delmuOM.append(delmuOMi)\n",
    "    delmuH0.append(delmuH0i)\n",
    "\n",
    "\n",
    "der = [delmuH0, delmuOL, delmuOM] #list of derivatives from mu\n",
    "\n",
    "#Fisher Matrix\n",
    "list_mn = []\n",
    "for n in der:\n",
    "    list_m = []\n",
    "    for m in der:\n",
    "        list_d = []\n",
    "        for i in range(lenz):\n",
    "            di = (1 / (sigma[i]) ** 2) * ( n[i] * m[i])\n",
    "            list_d.append(di)\n",
    "        list_m.append(sum(list_d))\n",
    "    list_mn.append(list_m)\n",
    "    \n",
    "fisher_matrix = np.array(list_mn)                \n",
    "print(f'The Fisher Information Matrix, Fij = < del(-lnL)/deltheta_i deltheta_j> (theta = [H0, OmegaLambda, Omegam]), is: \\n', fisher_matrix)                \n"
   ]
  },
  {
   "cell_type": "markdown",
   "id": "5b22f530",
   "metadata": {},
   "source": [
    "### Confidence Region"
   ]
  },
  {
   "cell_type": "code",
   "execution_count": null,
   "id": "63154b8c",
   "metadata": {},
   "outputs": [],
   "source": []
  },
  {
   "cell_type": "markdown",
   "id": "f8582ed0",
   "metadata": {},
   "source": [
    "### B) Likelihood (-2ln L)  and best fit (with all parameters free)"
   ]
  },
  {
   "cell_type": "code",
   "execution_count": 19,
   "id": "3619e98b",
   "metadata": {},
   "outputs": [],
   "source": [
    "def Dl_all(z, theta):\n",
    "#Theta\n",
    "    H0, Omega_k0, Omega_m0, Omega_l0, Omega_r0  = theta[0], theta[1], theta[2], theta[3], theta[4]\n",
    "\n",
    "#Comoving distance\n",
    "    def integ(b):\n",
    "\n",
    "        int_arg = lambda z: 1 / (Omega_l0 + Omega_k0 * ((1 + z) ** 2) + Omega_m0 * ((1 + z) ** 3) + Omega_r0 * ((1 + z) ** 4)) ** 0.5\n",
    "        result = quad(int_arg, 0, b)\n",
    "        return result[0]\n",
    "\n",
    "    dc_list = []\n",
    "    for i in range(lenz):\n",
    "        d = integ (z[i])     #(* c/H0)   \n",
    "        dc_list.append(d)\n",
    "\n",
    "    dc = np.array(dc_list)      \n",
    "    Dc =  dc     #( * H0/c)\n",
    "\n",
    "# Temporal comoving distance\n",
    "    if Omega_k0 == 0:\n",
    "        Dt = Dc\n",
    "    else:\n",
    "        Dt = (sinh((Omega_k0 ** 0.5)) * Dc) / (Omega_k0 ** 0.5)\n",
    "        \n",
    "#Luminosity distance\n",
    "    D_l = (1 + z) * Dt\n",
    "\n",
    "    return D_l\n",
    "\n",
    "\n",
    "\n",
    "def mu_all(z, theta): #This function calculates the modular distance\n",
    "\n",
    "    H0 =theta[0]\n",
    "    \n",
    "    DL = Dl_all(z, theta)\n",
    "    mu = ( 5 * log10(DL) ) + 25 + ( 5 * log10(c / H0))\n",
    "    \n",
    "    return mu \n",
    "\n",
    "\n",
    "\n",
    "def f_2lnL_all(theta): #This function calculates -2lnL (L is the Likelihood).\n",
    "    arg = []\n",
    "    mu_all_z = mu_all(zobs,theta)\n",
    "    for i in range(lenz):\n",
    "        argi = ((mu_all_z[i] - muobs[i] ) ** 2 ) / ( sigmaobs[i] ** 2 )\n",
    "        arg.append(argi)\n",
    "        \n",
    "    return sum(arg)  \n"
   ]
  },
  {
   "cell_type": "code",
   "execution_count": 26,
   "id": "6a73684d",
   "metadata": {},
   "outputs": [
    {
     "name": "stdout",
     "output_type": "stream",
     "text": [
      " [H0 Omega_k0 Omega_m0 Omega_l0 Omega_r0] \n",
      " [7.06359151e+01 2.18015388e-06 2.58185962e-01 7.25666979e-01\n",
      " 5.89644020e-06]\n"
     ]
    }
   ],
   "source": [
    "#Best fit (all parameters free)\n",
    "\n",
    "def fit_all():\n",
    "    x0 = [70.0, 0.02, 0.25, 0.70, 1e-05]\n",
    "    x0_np = np.array(x0)\n",
    "    bnds = ((0, None),(0, 1.0), (0, 1.0), (0, 1.0),(0, 1.0))\n",
    "    \n",
    "    f = minimize(f_2lnL_all, x0_np, bounds = bnds, method='Nelder-Mead', tol=1e-6)\n",
    "    \n",
    "    return f\n",
    "\n",
    "fit_all = fit_all()\n",
    "\n",
    "print(f' [H0 Omega_k0 Omega_m0 Omega_l0 Omega_r0] \\n',fit_all.x) "
   ]
  },
  {
   "cell_type": "code",
   "execution_count": 21,
   "id": "31ae0e41",
   "metadata": {},
   "outputs": [
    {
     "name": "stdout",
     "output_type": "stream",
     "text": [
      "The Fisher Information Matrix, Fij = < del(-lnL)/deltheta_i deltheta_j> \n",
      " (theta = [H0, Omega_k0, Omega_Lambda0, Omega_m0,Omega_r0]), is: \n",
      " \n",
      " [[   4.26631189   36.66064019   59.36894795   49.26224774   73.70757147]\n",
      " [  36.66064019  328.40743529  491.97583134  420.05311054  592.57705834]\n",
      " [  59.36894795  491.97583134  852.42652005  690.34362954 1085.28341459]\n",
      " [  49.26224774  420.05311054  690.34362954  569.71485262  862.07196799]\n",
      " [  73.70757147  592.57705834 1085.28341459  862.07196799 1408.90891071]]\n"
     ]
    }
   ],
   "source": [
    "#Fisher Matrix (all parameters free)\n",
    "\n",
    "#Parameters and data\n",
    "theta = fit_all.x\n",
    "H0 = theta[0]\n",
    "z = zobs\n",
    "\n",
    "# factor: del(dc)/delOmega_lambda/m\n",
    "def dOm(z, Omega):\n",
    "    dc_list = []\n",
    "    for i in range(lenz):\n",
    "        \n",
    "        H0, Omega_m0, Omega_k0, Omega_l0, Omega_r0  = theta[0], theta[1], theta[2], theta[3], theta[4]\n",
    "        \n",
    "        if Omega == 1:        #Omega_Lambda case\n",
    "            int_arg = lambda z: -(0.5) * ((Omega_l0 + (Omega_m0 * ((1 + z) ** 3)))) ** (3/2)\n",
    "            d = quad(int_arg, 0, z[i])\n",
    "        \n",
    "        elif Omega == 2:   #Omega_m case\n",
    "            int_arg = lambda z: -((1 + z) ** 3) * (0.5) * ((Omega_l0 + (Omega_m0 * ((1 + z) ** 3)))) ** (3/2)\n",
    "            d = quad(int_arg, 0, z[i])\n",
    "        \n",
    "        elif Omega == 3:   #Omega_k case\n",
    "            int_arg = lambda z: -((1 + z) ** 2) * (0.5) * ((Omega_l0 + (Omega_m0 * ((1 + z) ** 3)))) ** (3/2)\n",
    "            d = quad(int_arg, 0, z[i])\n",
    "        \n",
    "        else:                 #Omega_l case\n",
    "            int_arg = lambda z: -((1 + z) ** 4) * (0.5) * ((Omega_l0 + (Omega_m0 * ((1 + z) ** 3)))) ** (3/2)\n",
    "            d = quad(int_arg, 0, z[i])\n",
    "        \n",
    "        dc_list.append(d[0])\n",
    "\n",
    "    return np.array(dc_list)\n",
    "\n",
    "\n",
    "#delmu/delH0\n",
    "delmuH0 =  []\n",
    "\n",
    "#delmu/delOmegalambda\n",
    "delmuOL = []\n",
    "\n",
    "#delmu/delOmegam\n",
    "delmuOM = []\n",
    "\n",
    "#delmu/delOmegam\n",
    "delmuOK = []\n",
    "\n",
    "#delmu/delOmegam\n",
    "delmuOR = []\n",
    "\n",
    "#This calculates the derivatives\n",
    "for k in range(lenz):\n",
    "    delmuH0i =(- 5) / (H0 * ln(10))\n",
    "    delmuOLi = (5 / (Dl(z, theta)[k] * ln(10)) * dOm(zobs, 1)[k])\n",
    "    delmuOMi = (5 / (Dl(z, theta)[k] * ln(10)) * dOm(zobs, 2)[k])\n",
    "    delmuOKi = (5 / (Dl(z, theta)[k] * ln(10)) * dOm(zobs, 3)[k])\n",
    "    delmuORi = (5 / (Dl(z, theta)[k] * ln(10)) * dOm(zobs, 4)[k])\n",
    "       \n",
    "    delmuH0.append(delmuH0i)\n",
    "    delmuOL.append(delmuOLi)\n",
    "    delmuOM.append(delmuOMi)\n",
    "    delmuOK.append(delmuOKi)\n",
    "    delmuOR.append(delmuORi)\n",
    "\n",
    "#list of derivatives from mu\n",
    "der = [delmuH0, delmuOL, delmuOM, delmuOK, delmuOR] \n",
    "\n",
    "#Fisher Matrix\n",
    "list_mn = []\n",
    "for n in der:\n",
    "    list_m = []\n",
    "    for m in der:\n",
    "        list_d = []\n",
    "        for i in range(lenz):\n",
    "            di = (1 / (sigma[i]) ** 2) * ( n[i] * m[i])\n",
    "            list_d.append(di)\n",
    "        list_m.append(sum(list_d))\n",
    "    list_mn.append(list_m)\n",
    "    \n",
    "fisher_matrix = np.array(list_mn)                \n",
    "print(f'The Fisher Information Matrix, Fij = < del(-lnL)/deltheta_i deltheta_j> \\n (theta = [H0, Omega_k0, Omega_Lambda0, Omega_m0,Omega_r0]), is: \\n \\n', fisher_matrix)                \n"
   ]
  },
  {
   "cell_type": "markdown",
   "id": "fac618af",
   "metadata": {},
   "source": [
    "### D) Likelihood ratio test"
   ]
  },
  {
   "cell_type": "code",
   "execution_count": 31,
   "id": "a9f00374",
   "metadata": {},
   "outputs": [
    {
     "name": "stdout",
     "output_type": "stream",
     "text": [
      "1.000000080835747\n"
     ]
    }
   ],
   "source": [
    "theta1 = fit.x #Omegak0, Omegam0 = 0\n",
    "theta2 = fit_all.x\n",
    "\n",
    "L1 = f_2lnL(theta1)\n",
    "L2 = f_2lnL_all(theta2)\n",
    "\n",
    "l = L1/L2\n",
    "\n",
    "print(l)"
   ]
  },
  {
   "cell_type": "markdown",
   "id": "1396ca85",
   "metadata": {},
   "source": [
    "Since the ratio $\\lambda$ ~ 1, so the hypothesis $\\Omega_{k0} = \\Omega_{r0} = 0$ is reasonable."
   ]
  },
  {
   "cell_type": "code",
   "execution_count": null,
   "id": "5776ed03",
   "metadata": {},
   "outputs": [],
   "source": []
  },
  {
   "cell_type": "code",
   "execution_count": null,
   "id": "3a1d0766",
   "metadata": {},
   "outputs": [],
   "source": []
  }
 ],
 "metadata": {
  "kernelspec": {
   "display_name": "Python 3 (ipykernel)",
   "language": "python",
   "name": "python3"
  },
  "language_info": {
   "codemirror_mode": {
    "name": "ipython",
    "version": 3
   },
   "file_extension": ".py",
   "mimetype": "text/x-python",
   "name": "python",
   "nbconvert_exporter": "python",
   "pygments_lexer": "ipython3",
   "version": "3.8.10"
  }
 },
 "nbformat": 4,
 "nbformat_minor": 5
}
