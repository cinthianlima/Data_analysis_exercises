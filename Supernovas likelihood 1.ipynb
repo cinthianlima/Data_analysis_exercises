{
 "cells": [
  {
   "cell_type": "markdown",
   "id": "dd32bd5e",
   "metadata": {},
   "source": [
    "### Packages"
   ]
  },
  {
   "cell_type": "code",
   "execution_count": 1,
   "id": "680fca9a",
   "metadata": {},
   "outputs": [],
   "source": [
    "# NumCosmo\n",
    "try:\n",
    "  import gi\n",
    "  gi.require_version('NumCosmo', '1.0')\n",
    "  gi.require_version('NumCosmoMath', '1.0')\n",
    "except:\n",
    "  pass\n",
    "\n",
    "from gi.repository import GObject\n",
    "from gi.repository import NumCosmo as Nc\n",
    "from gi.repository import NumCosmoMath as Ncm\n",
    "\n",
    "import matplotlib.pyplot as plt\n",
    "import scipy\n",
    "import numpy as np\n",
    "from sympy import *\n",
    "\n",
    "# Necessary functions:\n",
    "\n",
    "from numpy import sqrt\n",
    "from numpy import log10\n",
    "from numpy import sinh\n",
    "from numpy import log as ln\n",
    "\n",
    "#Calculus\n",
    "from scipy.integrate import quad #Integrate\n",
    "from sympy import diff, Symbol, symbols #Derivative\n",
    "from scipy.optimize import minimize\n",
    "\n",
    "c = 3*(10**5)\n",
    "#c =1"
   ]
  },
  {
   "cell_type": "markdown",
   "id": "ea6b5ecb",
   "metadata": {},
   "source": [
    "### NumCosmo Settings"
   ]
  },
  {
   "cell_type": "code",
   "execution_count": 2,
   "id": "464d68a0",
   "metadata": {},
   "outputs": [],
   "source": [
    "Ncm.cfg_init ()\n",
    "cosmo = Nc.HICosmoDEXcdm() #Cosmology object"
   ]
  },
  {
   "cell_type": "markdown",
   "id": "16fe74fd",
   "metadata": {},
   "source": [
    "### Data"
   ]
  },
  {
   "cell_type": "code",
   "execution_count": 3,
   "id": "2ea629e5",
   "metadata": {},
   "outputs": [],
   "source": [
    "ser = Ncm.Serialize.new(0)\n",
    "Ncm.cfg_init ()\n",
    "data = ser.from_file(\"/home/cinthia/NumCosmo/data/nc_data_snia_diag_legacy.obj\")\n",
    "lenz = data.y.len()\n",
    "\n",
    "muobs = []\n",
    "sigma = []\n",
    "zobs = []\n",
    "for i in range(lenz):\n",
    "    mi = data.y.get(i)\n",
    "    si = data.sigma.get(i)\n",
    "    zi = data.x.get(i)\n",
    "    \n",
    "    muobs.append(mi)\n",
    "    sigma.append(si)\n",
    "    zobs.append(zi)\n",
    "\n",
    "muobs = np.array(muobs)\n",
    "zobs = np.array(zobs)\n",
    "sigmaobs = np.array(sigma)"
   ]
  },
  {
   "cell_type": "markdown",
   "id": "ad13d0cf",
   "metadata": {},
   "source": [
    "### Likelihood (-2ln L)"
   ]
  },
  {
   "cell_type": "code",
   "execution_count": 4,
   "id": "a84ae715",
   "metadata": {},
   "outputs": [],
   "source": [
    "def mu(z, theta): #This function calculates the modular distance\n",
    "    \n",
    "#Theta\n",
    "    H0, Omega_m0, Omega_l0  = theta[0], theta[1], theta[2]\n",
    "\n",
    "\n",
    "#Hubble function\n",
    "#    E2z = Omega_l0 + Omega_k0*((1 + z) ** 2) + Omega_m0*((1 + z) ** 3) + Omega_r0*((1 + z) ** 4) \n",
    "#    Ez = E2z ** 0.5\n",
    "    \n",
    "\n",
    "#Comoving distance\n",
    "    def integ(b):\n",
    "        int_arg = lambda z: 1/((Omega_l0 + (Omega_m0 * ((1 + z) ** 3))) ** 0.5)\n",
    "        result = quad(int_arg, 0, b)\n",
    "        return result[0]\n",
    "        \n",
    "    dc_list = []\n",
    "    for i in range(lenz):\n",
    "        d = integ (z[i])     #(* c/H0)   \n",
    "        dc_list.append(d)\n",
    "    \n",
    "    dc = np.array(dc_list)      \n",
    "    Dc =  dc     #( * H0/c)\n",
    "    \n",
    "\n",
    "#Temporal comoving distance\n",
    "#     if Omega_k0 == 0:\n",
    "#         Dt = Dc\n",
    "#     else:\n",
    "#         Dt = sinh((sqrt(Omega_k0)) * Dc) / sqrt(Omega_k0)\n",
    "    \n",
    "    Dt = Dc\n",
    "    \n",
    "#Luminosity distance\n",
    "    Dl = (1 + z) * Dt\n",
    "\n",
    "#Modular distance\n",
    "    mu = ( 5 * log10(Dl) ) + 25 + ( 5 * log10(c / H0))\n",
    "    \n",
    "    return mu \n",
    "\n",
    "\n",
    "def f_2lnL(theta): #This function calculates -2lnL (L is the Likelihood).\n",
    "    arg = []\n",
    "    for i in range(lenz):\n",
    "        argi = ( ( mu(zobs,theta)[i] - muobs[i] ) ** 2 ) / ( sigmaobs[i] ** 2 )\n",
    "        arg.append(argi)\n",
    "        \n",
    "    return sum(arg)  \n"
   ]
  },
  {
   "cell_type": "markdown",
   "id": "b9eb2486",
   "metadata": {},
   "source": [
    "### Best fit"
   ]
  },
  {
   "cell_type": "code",
   "execution_count": 7,
   "id": "594838ea",
   "metadata": {},
   "outputs": [
    {
     "name": "stdout",
     "output_type": "stream",
     "text": [
      " final_simplex: (array([[73.36421072,  0.23935098,  0.67269584],\n",
      "       [73.36421087,  0.23935098,  0.67269584],\n",
      "       [73.36421171,  0.23935097,  0.67269582],\n",
      "       [73.36421065,  0.23935098,  0.67269583]]), array([110.99870476, 110.99870476, 110.99870476, 110.99870476]))\n",
      "           fun: 110.99870476451699\n",
      "       message: 'Optimization terminated successfully.'\n",
      "          nfev: 167\n",
      "           nit: 84\n",
      "        status: 0\n",
      "       success: True\n",
      "             x: array([73.36421072,  0.23935098,  0.67269584])\n"
     ]
    }
   ],
   "source": [
    "def fit():\n",
    "    x0 = [70.0, 0.20, 0.80]\n",
    "    x0_np = np.array(x0)\n",
    "    bnds = ((40, None), (0, 1.0), (0, 1.0))\n",
    "    \n",
    "    f = minimize(f_2lnL, x0_np, bounds = bnds, method='Nelder-Mead', tol=1e-6)\n",
    "    \n",
    "    return f\n",
    "\n",
    "\n",
    "fit = fit()\n",
    "\n",
    "print(fit)"
   ]
  },
  {
   "cell_type": "markdown",
   "id": "3f7fd4b7",
   "metadata": {},
   "source": [
    "### Fisher matrix"
   ]
  },
  {
   "cell_type": "code",
   "execution_count": 8,
   "id": "a56f5dc0",
   "metadata": {},
   "outputs": [
    {
     "ename": "KeyError",
     "evalue": "0",
     "output_type": "error",
     "traceback": [
      "\u001b[0;31m---------------------------------------------------------------------------\u001b[0m",
      "\u001b[0;31mKeyError\u001b[0m                                  Traceback (most recent call last)",
      "Input \u001b[0;32mIn [8]\u001b[0m, in \u001b[0;36m<cell line: 1>\u001b[0;34m()\u001b[0m\n\u001b[0;32m----> 1\u001b[0m f_2lnL_fit \u001b[38;5;241m=\u001b[39m \u001b[43mf_2lnL\u001b[49m\u001b[43m(\u001b[49m\u001b[43mfit\u001b[49m\u001b[43m)\u001b[49m\n",
      "Input \u001b[0;32mIn [4]\u001b[0m, in \u001b[0;36mf_2lnL\u001b[0;34m(theta)\u001b[0m\n\u001b[1;32m     45\u001b[0m arg \u001b[38;5;241m=\u001b[39m []\n\u001b[1;32m     46\u001b[0m \u001b[38;5;28;01mfor\u001b[39;00m i \u001b[38;5;129;01min\u001b[39;00m \u001b[38;5;28mrange\u001b[39m(lenz):\n\u001b[0;32m---> 47\u001b[0m     argi \u001b[38;5;241m=\u001b[39m ( ( \u001b[43mmu\u001b[49m\u001b[43m(\u001b[49m\u001b[43mzobs\u001b[49m\u001b[43m,\u001b[49m\u001b[43mtheta\u001b[49m\u001b[43m)\u001b[49m[i] \u001b[38;5;241m-\u001b[39m muobs[i] ) \u001b[38;5;241m*\u001b[39m\u001b[38;5;241m*\u001b[39m \u001b[38;5;241m2\u001b[39m ) \u001b[38;5;241m/\u001b[39m ( sigmaobs[i] \u001b[38;5;241m*\u001b[39m\u001b[38;5;241m*\u001b[39m \u001b[38;5;241m2\u001b[39m )\n\u001b[1;32m     48\u001b[0m     arg\u001b[38;5;241m.\u001b[39mappend(argi)\n\u001b[1;32m     50\u001b[0m \u001b[38;5;28;01mreturn\u001b[39;00m \u001b[38;5;28msum\u001b[39m(arg)\n",
      "Input \u001b[0;32mIn [4]\u001b[0m, in \u001b[0;36mmu\u001b[0;34m(z, theta)\u001b[0m\n\u001b[1;32m      1\u001b[0m \u001b[38;5;28;01mdef\u001b[39;00m \u001b[38;5;21mmu\u001b[39m(z, theta): \u001b[38;5;66;03m#This function calculates the modular distance\u001b[39;00m\n\u001b[1;32m      2\u001b[0m     \n\u001b[1;32m      3\u001b[0m \u001b[38;5;66;03m#Theta\u001b[39;00m\n\u001b[0;32m----> 4\u001b[0m     H0, Omega_m0, Omega_l0  \u001b[38;5;241m=\u001b[39m \u001b[43mtheta\u001b[49m\u001b[43m[\u001b[49m\u001b[38;5;241;43m0\u001b[39;49m\u001b[43m]\u001b[49m, theta[\u001b[38;5;241m1\u001b[39m], theta[\u001b[38;5;241m2\u001b[39m]\n\u001b[1;32m      7\u001b[0m \u001b[38;5;66;03m#Hubble function\u001b[39;00m\n\u001b[1;32m      8\u001b[0m \u001b[38;5;66;03m#    E2z = Omega_l0 + Omega_k0*((1 + z) ** 2) + Omega_m0*((1 + z) ** 3) + Omega_r0*((1 + z) ** 4) \u001b[39;00m\n\u001b[1;32m      9\u001b[0m \u001b[38;5;66;03m#    Ez = E2z ** 0.5\u001b[39;00m\n\u001b[1;32m     10\u001b[0m     \n\u001b[1;32m     11\u001b[0m \n\u001b[1;32m     12\u001b[0m \u001b[38;5;66;03m#Comoving distance\u001b[39;00m\n\u001b[1;32m     13\u001b[0m     \u001b[38;5;28;01mdef\u001b[39;00m \u001b[38;5;21minteg\u001b[39m(b):\n",
      "\u001b[0;31mKeyError\u001b[0m: 0"
     ]
    }
   ],
   "source": []
  },
  {
   "cell_type": "code",
   "execution_count": null,
   "id": "29b70eee",
   "metadata": {},
   "outputs": [],
   "source": []
  },
  {
   "cell_type": "code",
   "execution_count": null,
   "id": "ec075ed8",
   "metadata": {},
   "outputs": [],
   "source": []
  },
  {
   "cell_type": "code",
   "execution_count": null,
   "id": "5776ed03",
   "metadata": {},
   "outputs": [],
   "source": []
  },
  {
   "cell_type": "code",
   "execution_count": null,
   "id": "3a1d0766",
   "metadata": {},
   "outputs": [],
   "source": []
  }
 ],
 "metadata": {
  "kernelspec": {
   "display_name": "Python 3 (ipykernel)",
   "language": "python",
   "name": "python3"
  },
  "language_info": {
   "codemirror_mode": {
    "name": "ipython",
    "version": 3
   },
   "file_extension": ".py",
   "mimetype": "text/x-python",
   "name": "python",
   "nbconvert_exporter": "python",
   "pygments_lexer": "ipython3",
   "version": "3.8.10"
  }
 },
 "nbformat": 4,
 "nbformat_minor": 5
}
